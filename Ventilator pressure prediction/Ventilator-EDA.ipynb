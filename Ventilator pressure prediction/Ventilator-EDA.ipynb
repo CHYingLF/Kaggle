{
 "cells": [
  {
   "cell_type": "markdown",
   "id": "d44fd017",
   "metadata": {
    "papermill": {
     "duration": 0.043883,
     "end_time": "2022-01-04T05:58:18.883252",
     "exception": false,
     "start_time": "2022-01-04T05:58:18.839369",
     "status": "completed"
    },
    "tags": []
   },
   "source": [
    "# 1. Setup"
   ]
  },
  {
   "cell_type": "markdown",
   "id": "a3308601",
   "metadata": {
    "papermill": {
     "duration": 0.043195,
     "end_time": "2022-01-04T05:58:18.968390",
     "exception": false,
     "start_time": "2022-01-04T05:58:18.925195",
     "status": "completed"
    },
    "tags": []
   },
   "source": [
    "> ## 1.1 Import Libraries\n",
    "\n",
    "First, we import python modules required for data wrangling, exploratory data analysis, model building and data visualization."
   ]
  },
  {
   "cell_type": "code",
   "execution_count": 4,
   "id": "37f8fb32",
   "metadata": {
    "execution": {
     "iopub.execute_input": "2022-01-04T05:58:19.057486Z",
     "iopub.status.busy": "2022-01-04T05:58:19.056327Z",
     "iopub.status.idle": "2022-01-04T05:58:28.173422Z",
     "shell.execute_reply": "2022-01-04T05:58:28.172482Z",
     "shell.execute_reply.started": "2022-01-04T05:24:14.089044Z"
    },
    "papermill": {
     "duration": 9.161923,
     "end_time": "2022-01-04T05:58:28.173606",
     "exception": false,
     "start_time": "2022-01-04T05:58:19.011683",
     "status": "completed"
    },
    "tags": []
   },
   "outputs": [],
   "source": [
    "#data manipulation and visualization libraries\n",
    "import os\n",
    "import time\n",
    "import datetime as dt\n",
    "import numpy as np\n",
    "import pandas as pd\n",
    "import matplotlib.pyplot as plt\n",
    "import matplotlib.axes._axes as axes\n",
    "from matplotlib.figure import Figure\n",
    "import seaborn as sns\n",
    "import plotly\n",
    "import plotly.express as px\n",
    "from warnings import filterwarnings\n",
    "\n",
    "#data prepocessing and classic ML libraries\n",
    "\n",
    "from sklearn.preprocessing import MinMaxScaler, StandardScaler, OneHotEncoder, LabelEncoder \n",
    "from sklearn.model_selection import train_test_split \n",
    "from sklearn.model_selection import KFold, RepeatedKFold, StratifiedKFold \n",
    "from sklearn.model_selection import cross_val_score \n",
    "from sklearn.model_selection import GridSearchCV \n",
    "from sklearn.pipeline import Pipeline, make_pipeline\n",
    "from sklearn.compose import make_column_transformer\n",
    "\n",
    "from sklearn.metrics import classification_report \n",
    "from sklearn.metrics import confusion_matrix \n",
    "from sklearn.metrics import accuracy_score \n",
    "\n",
    "from xgboost import XGBRegressor, XGBClassifier\n",
    "from sklearn.linear_model import LinearRegression, Lasso, ElasticNet, LogisticRegression\n",
    "from sklearn.neighbors import KNeighborsRegressor, KNeighborsClassifier \n",
    "from sklearn.naive_bayes import GaussianNB\n",
    "from sklearn.svm import SVR, SVC\n",
    "from sklearn.tree import DecisionTreeRegressor, DecisionTreeClassifier \n",
    "from sklearn.ensemble import ExtraTreesRegressor, ExtraTreesClassifier\n",
    "from sklearn.ensemble import RandomForestRegressor, RandomForestClassifier\n",
    "from sklearn.ensemble import AdaBoostRegressor, AdaBoostClassifier \n",
    "from sklearn.ensemble import GradientBoostingRegressor, GradientBoostingClassifier  \n",
    "\n",
    "#for imbalanced classification\n",
    "from imblearn.ensemble import BalancedBaggingClassifier, BalancedRandomForestClassifier\n",
    "from imblearn.ensemble import EasyEnsembleClassifier, RUSBoostClassifier\n",
    "\n",
    "#neural network libraries\n",
    "import tensorflow as tf\n",
    "from tensorflow.keras.optimizers import Adam\n",
    "from tensorflow.keras.layers import Input, Dense, Activation\n",
    "from tensorflow.keras.models import Model, Sequential\n",
    "from tensorflow.keras.utils import plot_model\n",
    "from keras.models import Sequential\n",
    "from keras.layers import Dense\n",
    "from keras.wrappers.scikit_learn import KerasClassifier\n",
    "from keras.metrics import AUC\n",
    "\n",
    "np.random.seed(123)\n",
    "filterwarnings('ignore')\n",
    "pd.set_option('display.float_format', lambda num:'%1.3f'%num)\n",
    "pd.set_option('display.max_columns', 99)\n",
    "sns.set()"
   ]
  },
  {
   "cell_type": "code",
   "execution_count": 5,
   "id": "bizarre-passport",
   "metadata": {},
   "outputs": [],
   "source": [
    "#!pip install xgboost"
   ]
  },
  {
   "cell_type": "markdown",
   "id": "056ee9c2",
   "metadata": {
    "papermill": {
     "duration": 0.040133,
     "end_time": "2022-01-04T05:58:28.256401",
     "exception": false,
     "start_time": "2022-01-04T05:58:28.216268",
     "status": "completed"
    },
    "tags": []
   },
   "source": [
    "> ## 1.2. Load Datasets\n",
    "\n",
    "To get started, the provided datasets are loaded as pandas dataframes."
   ]
  },
  {
   "cell_type": "code",
   "execution_count": 58,
   "id": "d6498f1f",
   "metadata": {
    "execution": {
     "iopub.execute_input": "2022-01-04T05:58:28.343631Z",
     "iopub.status.busy": "2022-01-04T05:58:28.343006Z",
     "iopub.status.idle": "2022-01-04T05:58:38.154426Z",
     "shell.execute_reply": "2022-01-04T05:58:38.155058Z",
     "shell.execute_reply.started": "2022-01-04T05:24:14.109548Z"
    },
    "papermill": {
     "duration": 9.858525,
     "end_time": "2022-01-04T05:58:38.155247",
     "exception": false,
     "start_time": "2022-01-04T05:58:28.296722",
     "status": "completed"
    },
    "tags": []
   },
   "outputs": [
    {
     "data": {
      "text/html": [
       "<div>\n",
       "<style scoped>\n",
       "    .dataframe tbody tr th:only-of-type {\n",
       "        vertical-align: middle;\n",
       "    }\n",
       "\n",
       "    .dataframe tbody tr th {\n",
       "        vertical-align: top;\n",
       "    }\n",
       "\n",
       "    .dataframe thead th {\n",
       "        text-align: right;\n",
       "    }\n",
       "</style>\n",
       "<table border=\"1\" class=\"dataframe\">\n",
       "  <thead>\n",
       "    <tr style=\"text-align: right;\">\n",
       "      <th></th>\n",
       "      <th>id</th>\n",
       "      <th>breath_id</th>\n",
       "      <th>R</th>\n",
       "      <th>C</th>\n",
       "      <th>time_step</th>\n",
       "      <th>u_in</th>\n",
       "      <th>u_out</th>\n",
       "      <th>pressure</th>\n",
       "    </tr>\n",
       "  </thead>\n",
       "  <tbody>\n",
       "    <tr>\n",
       "      <th>0</th>\n",
       "      <td>1</td>\n",
       "      <td>1</td>\n",
       "      <td>20</td>\n",
       "      <td>50</td>\n",
       "      <td>0.000</td>\n",
       "      <td>0.083</td>\n",
       "      <td>0</td>\n",
       "      <td>5.837</td>\n",
       "    </tr>\n",
       "    <tr>\n",
       "      <th>1</th>\n",
       "      <td>2</td>\n",
       "      <td>1</td>\n",
       "      <td>20</td>\n",
       "      <td>50</td>\n",
       "      <td>0.034</td>\n",
       "      <td>18.383</td>\n",
       "      <td>0</td>\n",
       "      <td>5.908</td>\n",
       "    </tr>\n",
       "    <tr>\n",
       "      <th>2</th>\n",
       "      <td>3</td>\n",
       "      <td>1</td>\n",
       "      <td>20</td>\n",
       "      <td>50</td>\n",
       "      <td>0.068</td>\n",
       "      <td>22.509</td>\n",
       "      <td>0</td>\n",
       "      <td>7.876</td>\n",
       "    </tr>\n",
       "    <tr>\n",
       "      <th>3</th>\n",
       "      <td>4</td>\n",
       "      <td>1</td>\n",
       "      <td>20</td>\n",
       "      <td>50</td>\n",
       "      <td>0.102</td>\n",
       "      <td>22.809</td>\n",
       "      <td>0</td>\n",
       "      <td>11.743</td>\n",
       "    </tr>\n",
       "    <tr>\n",
       "      <th>4</th>\n",
       "      <td>5</td>\n",
       "      <td>1</td>\n",
       "      <td>20</td>\n",
       "      <td>50</td>\n",
       "      <td>0.136</td>\n",
       "      <td>25.356</td>\n",
       "      <td>0</td>\n",
       "      <td>12.235</td>\n",
       "    </tr>\n",
       "    <tr>\n",
       "      <th>...</th>\n",
       "      <td>...</td>\n",
       "      <td>...</td>\n",
       "      <td>...</td>\n",
       "      <td>...</td>\n",
       "      <td>...</td>\n",
       "      <td>...</td>\n",
       "      <td>...</td>\n",
       "      <td>...</td>\n",
       "    </tr>\n",
       "    <tr>\n",
       "      <th>95</th>\n",
       "      <td>96</td>\n",
       "      <td>2</td>\n",
       "      <td>20</td>\n",
       "      <td>20</td>\n",
       "      <td>0.510</td>\n",
       "      <td>7.962</td>\n",
       "      <td>0</td>\n",
       "      <td>15.047</td>\n",
       "    </tr>\n",
       "    <tr>\n",
       "      <th>96</th>\n",
       "      <td>97</td>\n",
       "      <td>2</td>\n",
       "      <td>20</td>\n",
       "      <td>20</td>\n",
       "      <td>0.544</td>\n",
       "      <td>7.906</td>\n",
       "      <td>0</td>\n",
       "      <td>15.117</td>\n",
       "    </tr>\n",
       "    <tr>\n",
       "      <th>97</th>\n",
       "      <td>98</td>\n",
       "      <td>2</td>\n",
       "      <td>20</td>\n",
       "      <td>20</td>\n",
       "      <td>0.578</td>\n",
       "      <td>8.244</td>\n",
       "      <td>0</td>\n",
       "      <td>14.696</td>\n",
       "    </tr>\n",
       "    <tr>\n",
       "      <th>98</th>\n",
       "      <td>99</td>\n",
       "      <td>2</td>\n",
       "      <td>20</td>\n",
       "      <td>20</td>\n",
       "      <td>0.612</td>\n",
       "      <td>7.344</td>\n",
       "      <td>0</td>\n",
       "      <td>15.820</td>\n",
       "    </tr>\n",
       "    <tr>\n",
       "      <th>99</th>\n",
       "      <td>100</td>\n",
       "      <td>2</td>\n",
       "      <td>20</td>\n",
       "      <td>20</td>\n",
       "      <td>0.646</td>\n",
       "      <td>7.400</td>\n",
       "      <td>0</td>\n",
       "      <td>15.750</td>\n",
       "    </tr>\n",
       "  </tbody>\n",
       "</table>\n",
       "<p>100 rows × 8 columns</p>\n",
       "</div>"
      ],
      "text/plain": [
       "     id  breath_id   R   C  time_step   u_in  u_out  pressure\n",
       "0     1          1  20  50      0.000  0.083      0     5.837\n",
       "1     2          1  20  50      0.034 18.383      0     5.908\n",
       "2     3          1  20  50      0.068 22.509      0     7.876\n",
       "3     4          1  20  50      0.102 22.809      0    11.743\n",
       "4     5          1  20  50      0.136 25.356      0    12.235\n",
       "..  ...        ...  ..  ..        ...    ...    ...       ...\n",
       "95   96          2  20  20      0.510  7.962      0    15.047\n",
       "96   97          2  20  20      0.544  7.906      0    15.117\n",
       "97   98          2  20  20      0.578  8.244      0    14.696\n",
       "98   99          2  20  20      0.612  7.344      0    15.820\n",
       "99  100          2  20  20      0.646  7.400      0    15.750\n",
       "\n",
       "[100 rows x 8 columns]"
      ]
     },
     "execution_count": 58,
     "metadata": {},
     "output_type": "execute_result"
    }
   ],
   "source": [
    "df = pd.read_csv(\"train.csv\")\n",
    "df.head(100)"
   ]
  },
  {
   "cell_type": "markdown",
   "id": "framed-basketball",
   "metadata": {},
   "source": [
    "> ## 2.1 Summary Statistics"
   ]
  },
  {
   "cell_type": "code",
   "execution_count": 39,
   "id": "blond-october",
   "metadata": {},
   "outputs": [
    {
     "name": "stdout",
     "output_type": "stream",
     "text": [
      "               id   breath_id   time_step        u_in    pressure\n",
      "count 6036000.000 6036000.000 6036000.000 6036000.000 6036000.000\n",
      "mean  3018000.500   62838.859       1.307       7.322      11.220\n",
      "std   1742443.257   36335.256       0.766      13.435       8.110\n",
      "min         1.000       1.000       0.000       0.000      -1.896\n",
      "25%   1509000.750   31377.000       0.643       0.394       6.330\n",
      "50%   3018000.500   62765.500       1.308       4.386       7.033\n",
      "75%   4527000.250   94301.000       1.966       4.984      13.641\n",
      "max   6036000.000  125749.000       2.937     100.000      64.821\n",
      "<class 'pandas.core.frame.DataFrame'>\n",
      "RangeIndex: 6036000 entries, 0 to 6035999\n",
      "Data columns (total 8 columns):\n",
      " #   Column     Dtype  \n",
      "---  ------     -----  \n",
      " 0   id         int64  \n",
      " 1   breath_id  int64  \n",
      " 2   R          object \n",
      " 3   C          object \n",
      " 4   time_step  float64\n",
      " 5   u_in       float64\n",
      " 6   u_out      bool   \n",
      " 7   pressure   float64\n",
      "dtypes: bool(1), float64(3), int64(2), object(2)\n",
      "memory usage: 328.1+ MB\n",
      "None\n"
     ]
    }
   ],
   "source": [
    "print(df.describe())\n",
    "print(df.info())"
   ]
  },
  {
   "cell_type": "markdown",
   "id": "412fd46d",
   "metadata": {
    "papermill": {
     "duration": 0.040816,
     "end_time": "2022-01-04T05:58:38.238107",
     "exception": false,
     "start_time": "2022-01-04T05:58:38.197291",
     "status": "completed"
    },
    "tags": []
   },
   "source": [
    "> ## 1.3. Aggregate Datasets\n",
    "\n",
    "Data from different csv files are aggregated to form a single dataset. Further analyses will be performed on this combined dataset."
   ]
  },
  {
   "cell_type": "markdown",
   "id": "7d0e6c95",
   "metadata": {
    "papermill": {
     "duration": 0.043054,
     "end_time": "2022-01-04T05:58:43.873800",
     "exception": false,
     "start_time": "2022-01-04T05:58:43.830746",
     "status": "completed"
    },
    "tags": []
   },
   "source": [
    "# 2. Data Wrangling"
   ]
  },
  {
   "cell_type": "markdown",
   "id": "976b46a3",
   "metadata": {
    "papermill": {
     "duration": 0.043464,
     "end_time": "2022-01-04T05:58:43.960800",
     "exception": false,
     "start_time": "2022-01-04T05:58:43.917336",
     "status": "completed"
    },
    "tags": []
   },
   "source": [
    "> ## 2.1 Missing Values\n",
    "\n",
    "Dataset can often contain missing values in the form of NaN or Null entries. Since most machine learning models cannot deal with the missing values by themselves, it's essential to be done manually before fitting the data into a model."
   ]
  },
  {
   "cell_type": "code",
   "execution_count": 40,
   "id": "behind-wrong",
   "metadata": {},
   "outputs": [
    {
     "name": "stdout",
     "output_type": "stream",
     "text": [
      "id           0\n",
      "breath_id    0\n",
      "R            0\n",
      "C            0\n",
      "time_step    0\n",
      "u_in         0\n",
      "u_out        0\n",
      "pressure     0\n",
      "dtype: int64\n"
     ]
    }
   ],
   "source": [
    "print(df.isnull().sum())"
   ]
  },
  {
   "cell_type": "markdown",
   "id": "lightweight-tunnel",
   "metadata": {
    "execution": {
     "iopub.execute_input": "2022-01-04T05:58:44.125611Z",
     "iopub.status.busy": "2022-01-04T05:58:44.124949Z",
     "iopub.status.idle": "2022-01-04T05:58:44.135405Z",
     "shell.execute_reply": "2022-01-04T05:58:44.134777Z",
     "shell.execute_reply.started": "2022-01-04T05:24:26.610155Z"
    },
    "papermill": {
     "duration": 0.131085,
     "end_time": "2022-01-04T05:58:44.135555",
     "exception": false,
     "start_time": "2022-01-04T05:58:44.004470",
     "status": "completed"
    },
    "tags": []
   },
   "source": [
    "> ## 2.2 Treating Data types"
   ]
  },
  {
   "cell_type": "code",
   "execution_count": 59,
   "id": "widespread-tribe",
   "metadata": {
    "execution": {
     "iopub.execute_input": "2022-01-04T05:58:44.125611Z",
     "iopub.status.busy": "2022-01-04T05:58:44.124949Z",
     "iopub.status.idle": "2022-01-04T05:58:44.135405Z",
     "shell.execute_reply": "2022-01-04T05:58:44.134777Z",
     "shell.execute_reply.started": "2022-01-04T05:24:26.610155Z"
    },
    "papermill": {
     "duration": 0.131085,
     "end_time": "2022-01-04T05:58:44.135555",
     "exception": false,
     "start_time": "2022-01-04T05:58:44.004470",
     "status": "completed"
    },
    "tags": []
   },
   "outputs": [],
   "source": [
    "df_copy = df.copy()\n",
    "df_copy['u_out'] = df['u_out'].astype(object)\n",
    "df_copy['R'] = df['R'].astype(object)\n",
    "df_copy['C'] = df['C'].astype(object)"
   ]
  },
  {
   "cell_type": "markdown",
   "id": "victorian-voluntary",
   "metadata": {
    "execution": {
     "iopub.execute_input": "2022-01-04T05:58:44.125611Z",
     "iopub.status.busy": "2022-01-04T05:58:44.124949Z",
     "iopub.status.idle": "2022-01-04T05:58:44.135405Z",
     "shell.execute_reply": "2022-01-04T05:58:44.134777Z",
     "shell.execute_reply.started": "2022-01-04T05:24:26.610155Z"
    },
    "papermill": {
     "duration": 0.131085,
     "end_time": "2022-01-04T05:58:44.135555",
     "exception": false,
     "start_time": "2022-01-04T05:58:44.004470",
     "status": "completed"
    },
    "tags": []
   },
   "source": [
    "> ## 2.3 Scaling numerical features"
   ]
  },
  {
   "cell_type": "code",
   "execution_count": 61,
   "id": "novel-profit",
   "metadata": {
    "execution": {
     "iopub.execute_input": "2022-01-04T05:58:44.125611Z",
     "iopub.status.busy": "2022-01-04T05:58:44.124949Z",
     "iopub.status.idle": "2022-01-04T05:58:44.135405Z",
     "shell.execute_reply": "2022-01-04T05:58:44.134777Z",
     "shell.execute_reply.started": "2022-01-04T05:24:26.610155Z"
    },
    "papermill": {
     "duration": 0.131085,
     "end_time": "2022-01-04T05:58:44.135555",
     "exception": false,
     "start_time": "2022-01-04T05:58:44.004470",
     "status": "completed"
    },
    "tags": []
   },
   "outputs": [],
   "source": [
    "numeric_col = ['u_in']\n",
    "features = df_copy[numeric_col]\n",
    "Scaler = MinMaxScaler()\n",
    "df_copy[numeric_col] = Scaler.fit_transform(features)"
   ]
  },
  {
   "cell_type": "markdown",
   "id": "packed-clinton",
   "metadata": {
    "execution": {
     "iopub.execute_input": "2022-01-04T05:58:44.125611Z",
     "iopub.status.busy": "2022-01-04T05:58:44.124949Z",
     "iopub.status.idle": "2022-01-04T05:58:44.135405Z",
     "shell.execute_reply": "2022-01-04T05:58:44.134777Z",
     "shell.execute_reply.started": "2022-01-04T05:24:26.610155Z"
    },
    "papermill": {
     "duration": 0.131085,
     "end_time": "2022-01-04T05:58:44.135555",
     "exception": false,
     "start_time": "2022-01-04T05:58:44.004470",
     "status": "completed"
    },
    "tags": []
   },
   "source": [
    ">## 2.4 Encoding Categorical Features"
   ]
  },
  {
   "cell_type": "code",
   "execution_count": 62,
   "id": "e72d9bbb",
   "metadata": {
    "execution": {
     "iopub.execute_input": "2022-01-04T05:58:44.125611Z",
     "iopub.status.busy": "2022-01-04T05:58:44.124949Z",
     "iopub.status.idle": "2022-01-04T05:58:44.135405Z",
     "shell.execute_reply": "2022-01-04T05:58:44.134777Z",
     "shell.execute_reply.started": "2022-01-04T05:24:26.610155Z"
    },
    "papermill": {
     "duration": 0.131085,
     "end_time": "2022-01-04T05:58:44.135555",
     "exception": false,
     "start_time": "2022-01-04T05:58:44.004470",
     "status": "completed"
    },
    "tags": []
   },
   "outputs": [],
   "source": [
    "categorical_col = ['C','R']\n",
    "#label_encoder = LabelEncoder()\n",
    "#label_encoder = OneHotEncoder()\n",
    "\n",
    "for col in categorical_col:\n",
    "    #df_copy[col] = label_encoder.fit_transform(df_copy[col])\n",
    "    df_copy[col] = df_copy[col].astype(str)\n",
    "\n",
    "df_copy[\"R_C\"] = df_copy[\"R\"].astype(str) + '_' + df_copy[\"C\"].astype(str)\n",
    "df_copy = pd.get_dummies(df_copy) #convert str to indicator variables"
   ]
  },
  {
   "cell_type": "code",
   "execution_count": 63,
   "id": "simple-logan",
   "metadata": {
    "scrolled": true
   },
   "outputs": [
    {
     "data": {
      "text/html": [
       "<div>\n",
       "<style scoped>\n",
       "    .dataframe tbody tr th:only-of-type {\n",
       "        vertical-align: middle;\n",
       "    }\n",
       "\n",
       "    .dataframe tbody tr th {\n",
       "        vertical-align: top;\n",
       "    }\n",
       "\n",
       "    .dataframe thead th {\n",
       "        text-align: right;\n",
       "    }\n",
       "</style>\n",
       "<table border=\"1\" class=\"dataframe\">\n",
       "  <thead>\n",
       "    <tr style=\"text-align: right;\">\n",
       "      <th></th>\n",
       "      <th>id</th>\n",
       "      <th>breath_id</th>\n",
       "      <th>time_step</th>\n",
       "      <th>u_in</th>\n",
       "      <th>pressure</th>\n",
       "      <th>R_20</th>\n",
       "      <th>R_5</th>\n",
       "      <th>R_50</th>\n",
       "      <th>C_10</th>\n",
       "      <th>C_20</th>\n",
       "      <th>C_50</th>\n",
       "      <th>u_out_0</th>\n",
       "      <th>u_out_1</th>\n",
       "      <th>R_C_20_10</th>\n",
       "      <th>R_C_20_20</th>\n",
       "      <th>R_C_20_50</th>\n",
       "      <th>R_C_50_10</th>\n",
       "      <th>R_C_50_20</th>\n",
       "      <th>R_C_50_50</th>\n",
       "      <th>R_C_5_10</th>\n",
       "      <th>R_C_5_20</th>\n",
       "      <th>R_C_5_50</th>\n",
       "    </tr>\n",
       "  </thead>\n",
       "  <tbody>\n",
       "    <tr>\n",
       "      <th>0</th>\n",
       "      <td>1</td>\n",
       "      <td>1</td>\n",
       "      <td>0.000</td>\n",
       "      <td>0.001</td>\n",
       "      <td>5.837</td>\n",
       "      <td>1</td>\n",
       "      <td>0</td>\n",
       "      <td>0</td>\n",
       "      <td>0</td>\n",
       "      <td>0</td>\n",
       "      <td>1</td>\n",
       "      <td>1</td>\n",
       "      <td>0</td>\n",
       "      <td>0</td>\n",
       "      <td>0</td>\n",
       "      <td>1</td>\n",
       "      <td>0</td>\n",
       "      <td>0</td>\n",
       "      <td>0</td>\n",
       "      <td>0</td>\n",
       "      <td>0</td>\n",
       "      <td>0</td>\n",
       "    </tr>\n",
       "    <tr>\n",
       "      <th>1</th>\n",
       "      <td>2</td>\n",
       "      <td>1</td>\n",
       "      <td>0.034</td>\n",
       "      <td>0.184</td>\n",
       "      <td>5.908</td>\n",
       "      <td>1</td>\n",
       "      <td>0</td>\n",
       "      <td>0</td>\n",
       "      <td>0</td>\n",
       "      <td>0</td>\n",
       "      <td>1</td>\n",
       "      <td>1</td>\n",
       "      <td>0</td>\n",
       "      <td>0</td>\n",
       "      <td>0</td>\n",
       "      <td>1</td>\n",
       "      <td>0</td>\n",
       "      <td>0</td>\n",
       "      <td>0</td>\n",
       "      <td>0</td>\n",
       "      <td>0</td>\n",
       "      <td>0</td>\n",
       "    </tr>\n",
       "    <tr>\n",
       "      <th>2</th>\n",
       "      <td>3</td>\n",
       "      <td>1</td>\n",
       "      <td>0.068</td>\n",
       "      <td>0.225</td>\n",
       "      <td>7.876</td>\n",
       "      <td>1</td>\n",
       "      <td>0</td>\n",
       "      <td>0</td>\n",
       "      <td>0</td>\n",
       "      <td>0</td>\n",
       "      <td>1</td>\n",
       "      <td>1</td>\n",
       "      <td>0</td>\n",
       "      <td>0</td>\n",
       "      <td>0</td>\n",
       "      <td>1</td>\n",
       "      <td>0</td>\n",
       "      <td>0</td>\n",
       "      <td>0</td>\n",
       "      <td>0</td>\n",
       "      <td>0</td>\n",
       "      <td>0</td>\n",
       "    </tr>\n",
       "    <tr>\n",
       "      <th>3</th>\n",
       "      <td>4</td>\n",
       "      <td>1</td>\n",
       "      <td>0.102</td>\n",
       "      <td>0.228</td>\n",
       "      <td>11.743</td>\n",
       "      <td>1</td>\n",
       "      <td>0</td>\n",
       "      <td>0</td>\n",
       "      <td>0</td>\n",
       "      <td>0</td>\n",
       "      <td>1</td>\n",
       "      <td>1</td>\n",
       "      <td>0</td>\n",
       "      <td>0</td>\n",
       "      <td>0</td>\n",
       "      <td>1</td>\n",
       "      <td>0</td>\n",
       "      <td>0</td>\n",
       "      <td>0</td>\n",
       "      <td>0</td>\n",
       "      <td>0</td>\n",
       "      <td>0</td>\n",
       "    </tr>\n",
       "    <tr>\n",
       "      <th>4</th>\n",
       "      <td>5</td>\n",
       "      <td>1</td>\n",
       "      <td>0.136</td>\n",
       "      <td>0.254</td>\n",
       "      <td>12.235</td>\n",
       "      <td>1</td>\n",
       "      <td>0</td>\n",
       "      <td>0</td>\n",
       "      <td>0</td>\n",
       "      <td>0</td>\n",
       "      <td>1</td>\n",
       "      <td>1</td>\n",
       "      <td>0</td>\n",
       "      <td>0</td>\n",
       "      <td>0</td>\n",
       "      <td>1</td>\n",
       "      <td>0</td>\n",
       "      <td>0</td>\n",
       "      <td>0</td>\n",
       "      <td>0</td>\n",
       "      <td>0</td>\n",
       "      <td>0</td>\n",
       "    </tr>\n",
       "  </tbody>\n",
       "</table>\n",
       "</div>"
      ],
      "text/plain": [
       "   id  breath_id  time_step  u_in  pressure  R_20  R_5  R_50  C_10  C_20  \\\n",
       "0   1          1      0.000 0.001     5.837     1    0     0     0     0   \n",
       "1   2          1      0.034 0.184     5.908     1    0     0     0     0   \n",
       "2   3          1      0.068 0.225     7.876     1    0     0     0     0   \n",
       "3   4          1      0.102 0.228    11.743     1    0     0     0     0   \n",
       "4   5          1      0.136 0.254    12.235     1    0     0     0     0   \n",
       "\n",
       "   C_50  u_out_0  u_out_1  R_C_20_10  R_C_20_20  R_C_20_50  R_C_50_10  \\\n",
       "0     1        1        0          0          0          1          0   \n",
       "1     1        1        0          0          0          1          0   \n",
       "2     1        1        0          0          0          1          0   \n",
       "3     1        1        0          0          0          1          0   \n",
       "4     1        1        0          0          0          1          0   \n",
       "\n",
       "   R_C_50_20  R_C_50_50  R_C_5_10  R_C_5_20  R_C_5_50  \n",
       "0          0          0         0         0         0  \n",
       "1          0          0         0         0         0  \n",
       "2          0          0         0         0         0  \n",
       "3          0          0         0         0         0  \n",
       "4          0          0         0         0         0  "
      ]
     },
     "execution_count": 63,
     "metadata": {},
     "output_type": "execute_result"
    }
   ],
   "source": [
    "df_copy.head()"
   ]
  },
  {
   "cell_type": "markdown",
   "id": "9e8e0603",
   "metadata": {
    "papermill": {
     "duration": 0.044608,
     "end_time": "2022-01-04T05:58:44.518864",
     "exception": false,
     "start_time": "2022-01-04T05:58:44.474256",
     "status": "completed"
    },
    "tags": []
   },
   "source": [
    "# 3. Exploratory Data Analysis"
   ]
  },
  {
   "cell_type": "markdown",
   "id": "metric-jimmy",
   "metadata": {},
   "source": [
    "> ## 3.1 Summary Statistics"
   ]
  },
  {
   "cell_type": "code",
   "execution_count": 64,
   "id": "hazardous-siemens",
   "metadata": {},
   "outputs": [
    {
     "name": "stdout",
     "output_type": "stream",
     "text": [
      "               id   breath_id   time_step        u_in    pressure        R_20  \\\n",
      "count 6036000.000 6036000.000 6036000.000 6036000.000 6036000.000 6036000.000   \n",
      "mean  3018000.500   62838.859       1.307       0.073      11.220       0.271   \n",
      "std   1742443.257   36335.256       0.766       0.134       8.110       0.445   \n",
      "min         1.000       1.000       0.000       0.000      -1.896       0.000   \n",
      "25%   1509000.750   31377.000       0.643       0.004       6.330       0.000   \n",
      "50%   3018000.500   62765.500       1.308       0.044       7.033       0.000   \n",
      "75%   4527000.250   94301.000       1.966       0.050      13.641       1.000   \n",
      "max   6036000.000  125749.000       2.937       1.000      64.821       1.000   \n",
      "\n",
      "              R_5        R_50        C_10        C_20        C_50     u_out_0  \\\n",
      "count 6036000.000 6036000.000 6036000.000 6036000.000 6036000.000 6036000.000   \n",
      "mean        0.329       0.399       0.372       0.301       0.327       0.380   \n",
      "std         0.470       0.490       0.483       0.459       0.469       0.485   \n",
      "min         0.000       0.000       0.000       0.000       0.000       0.000   \n",
      "25%         0.000       0.000       0.000       0.000       0.000       0.000   \n",
      "50%         0.000       0.000       0.000       0.000       0.000       0.000   \n",
      "75%         1.000       1.000       1.000       1.000       1.000       1.000   \n",
      "max         1.000       1.000       1.000       1.000       1.000       1.000   \n",
      "\n",
      "          u_out_1   R_C_20_10   R_C_20_20   R_C_20_50   R_C_50_10   R_C_50_20  \\\n",
      "count 6036000.000 6036000.000 6036000.000 6036000.000 6036000.000 6036000.000   \n",
      "mean        0.620       0.080       0.082       0.108       0.181       0.109   \n",
      "std         0.485       0.272       0.275       0.311       0.385       0.312   \n",
      "min         0.000       0.000       0.000       0.000       0.000       0.000   \n",
      "25%         0.000       0.000       0.000       0.000       0.000       0.000   \n",
      "50%         1.000       0.000       0.000       0.000       0.000       0.000   \n",
      "75%         1.000       0.000       0.000       0.000       0.000       0.000   \n",
      "max         1.000       1.000       1.000       1.000       1.000       1.000   \n",
      "\n",
      "        R_C_50_50    R_C_5_10    R_C_5_20    R_C_5_50  \n",
      "count 6036000.000 6036000.000 6036000.000 6036000.000  \n",
      "mean        0.109       0.110       0.110       0.110  \n",
      "std         0.311       0.313       0.313       0.312  \n",
      "min         0.000       0.000       0.000       0.000  \n",
      "25%         0.000       0.000       0.000       0.000  \n",
      "50%         0.000       0.000       0.000       0.000  \n",
      "75%         0.000       0.000       0.000       0.000  \n",
      "max         1.000       1.000       1.000       1.000  \n",
      "<class 'pandas.core.frame.DataFrame'>\n",
      "RangeIndex: 6036000 entries, 0 to 6035999\n",
      "Data columns (total 22 columns):\n",
      " #   Column     Dtype  \n",
      "---  ------     -----  \n",
      " 0   id         int64  \n",
      " 1   breath_id  int64  \n",
      " 2   time_step  float64\n",
      " 3   u_in       float64\n",
      " 4   pressure   float64\n",
      " 5   R_20       uint8  \n",
      " 6   R_5        uint8  \n",
      " 7   R_50       uint8  \n",
      " 8   C_10       uint8  \n",
      " 9   C_20       uint8  \n",
      " 10  C_50       uint8  \n",
      " 11  u_out_0    uint8  \n",
      " 12  u_out_1    uint8  \n",
      " 13  R_C_20_10  uint8  \n",
      " 14  R_C_20_20  uint8  \n",
      " 15  R_C_20_50  uint8  \n",
      " 16  R_C_50_10  uint8  \n",
      " 17  R_C_50_20  uint8  \n",
      " 18  R_C_50_50  uint8  \n",
      " 19  R_C_5_10   uint8  \n",
      " 20  R_C_5_20   uint8  \n",
      " 21  R_C_5_50   uint8  \n",
      "dtypes: float64(3), int64(2), uint8(17)\n",
      "memory usage: 328.1 MB\n",
      "None\n"
     ]
    }
   ],
   "source": [
    "print(df_copy.describe())\n",
    "print(df_copy.info())"
   ]
  },
  {
   "cell_type": "markdown",
   "id": "outside-perception",
   "metadata": {},
   "source": [
    "> ## 3.2 Data Visualization"
   ]
  },
  {
   "cell_type": "markdown",
   "id": "fiscal-roads",
   "metadata": {},
   "source": [
    "### Distribution of R and C value"
   ]
  },
  {
   "cell_type": "code",
   "execution_count": 65,
   "id": "touched-perfume",
   "metadata": {},
   "outputs": [
    {
     "name": "stdout",
     "output_type": "stream",
     "text": [
      "breath_id  R   C \n",
      "1          20  50    80\n",
      "2          20  20    80\n",
      "3          50  20    80\n",
      "4          50  50    80\n",
      "5          5   50    80\n",
      "                     ..\n",
      "125740     50  50    80\n",
      "125742     20  10    80\n",
      "125743     20  10    80\n",
      "125745     50  50    80\n",
      "125749     50  10    80\n",
      "Length: 75450, dtype: int64\n",
      "R   C \n",
      "5   10     664960\n",
      "    20     662160\n",
      "    50     661680\n",
      "20  10     485600\n",
      "    20     496640\n",
      "    50     654880\n",
      "50  10    1094160\n",
      "    20     660800\n",
      "    50     655120\n",
      "dtype: int64\n"
     ]
    }
   ],
   "source": [
    "print(df.groupby(['breath_id','R','C']).size())\n",
    "print(df.groupby(['R','C']).size())"
   ]
  },
  {
   "cell_type": "code",
   "execution_count": 66,
   "id": "assumed-timeline",
   "metadata": {},
   "outputs": [
    {
     "name": "stdout",
     "output_type": "stream",
     "text": [
      "         count\n",
      "R  C          \n",
      "20 10   485600\n",
      "   20   496640\n",
      "   50   654880\n",
      "50 50   655120\n",
      "   20   660800\n",
      "5  50   661680\n",
      "   20   662160\n",
      "   10   664960\n",
      "50 10  1094160\n"
     ]
    },
    {
     "data": {
      "text/plain": [
       "<AxesSubplot:xlabel='R'>"
      ]
     },
     "execution_count": 66,
     "metadata": {},
     "output_type": "execute_result"
    },
    {
     "data": {
      "image/png": "[encoded data removed]",
      "text/plain": [
       "<Figure size 432x288 with 1 Axes>"
      ]
     },
     "metadata": {},
     "output_type": "display_data"
    },
    {
     "data": {
      "image/png": "[encoded data removed]",
      "text/plain": [
       "<Figure size 432x288 with 1 Axes>"
      ]
     },
     "metadata": {},
     "output_type": "display_data"
    },
    {
     "data": {
      "text/plain": [
       "<Figure size 432x288 with 0 Axes>"
      ]
     },
     "metadata": {},
     "output_type": "display_data"
    },
    {
     "data": {
      "image/png": "[encoded data removed]",
      "text/plain": [
       "<Figure size 432x288 with 1 Axes>"
      ]
     },
     "metadata": {},
     "output_type": "display_data"
    },
    {
     "data": {
      "image/png": "[encoded data removed]",
      "text/plain": [
       "<Figure size 432x288 with 1 Axes>"
      ]
     },
     "metadata": {},
     "output_type": "display_data"
    }
   ],
   "source": [
    "#plot R value\n",
    "plt.figure()\n",
    "f1=df.groupby(['R']).size().plot(kind = 'bar')\n",
    "\n",
    "#plot C value\n",
    "plt.figure()\n",
    "df.groupby(['C']).size().plot(kind = 'bar')\n",
    "\n",
    "#plot pair of R-C value\n",
    "RC_value = df.groupby(['R'])['C'].value_counts().sort_values(ascending=True).to_frame('count')\n",
    "print(RC_value)\n",
    "plt.figure()\n",
    "RC_value.plot.bar(stacked = True)\n",
    "\n",
    "#stacked plot with base of R, stacked in C\n",
    "rc = RC_value.pivot_table(index='R', columns='C', values='count')\n",
    "rc.plot.bar(stacked = True)"
   ]
  },
  {
   "cell_type": "markdown",
   "id": "intimate-gothic",
   "metadata": {},
   "source": [
    "### Distribution of pressure (responding variable)"
   ]
  },
  {
   "cell_type": "code",
   "execution_count": 69,
   "id": "attached-dynamics",
   "metadata": {},
   "outputs": [
    {
     "name": "stdout",
     "output_type": "stream",
     "text": [
      "pressure\n",
      "-1.896      3\n",
      "-1.825     69\n",
      "-1.755    217\n",
      "-1.685    431\n",
      "-1.615    389\n",
      "         ... \n",
      "64.540      8\n",
      "64.610     14\n",
      "64.680     13\n",
      "64.751      9\n",
      "64.821    871\n",
      "Length: 950, dtype: int64\n"
     ]
    },
    {
     "data": {
      "text/plain": [
       "<AxesSubplot:xlabel='pressure'>"
      ]
     },
     "execution_count": 69,
     "metadata": {},
     "output_type": "execute_result"
    },
    {
     "data": {
      "image/png": "[encoded data removed]",
      "text/plain": [
       "<Figure size 432x288 with 1 Axes>"
      ]
     },
     "metadata": {},
     "output_type": "display_data"
    },
    {
     "data": {
      "image/png": "[encoded data removed]",
      "text/plain": [
       "<Figure size 432x288 with 1 Axes>"
      ]
     },
     "metadata": {},
     "output_type": "display_data"
    }
   ],
   "source": [
    "print(df_copy.groupby(['pressure']).size())\n",
    "plt.hist(df['pressure'],bins = 30)\n",
    "\n",
    "#boxplot\n",
    "plt.figure()\n",
    "sns.boxplot(df_copy['pressure'])\n"
   ]
  },
  {
   "cell_type": "markdown",
   "id": "optimum-folks",
   "metadata": {},
   "source": [
    "### Distribution of u_in and u_out"
   ]
  },
  {
   "cell_type": "code",
   "execution_count": 23,
   "id": "balanced-google",
   "metadata": {},
   "outputs": [
    {
     "name": "stdout",
     "output_type": "stream",
     "text": [
      "u_out\n",
      "False    2290968\n",
      "True     3745032\n",
      "dtype: int64\n"
     ]
    }
   ],
   "source": [
    "print(df_copy2.groupby(['u_out']).size())"
   ]
  },
  {
   "cell_type": "code",
   "execution_count": 32,
   "id": "amino-beginning",
   "metadata": {},
   "outputs": [
    {
     "data": {
      "text/plain": [
       "<AxesSubplot:>"
      ]
     },
     "execution_count": 32,
     "metadata": {},
     "output_type": "execute_result"
    },
    {
     "data": {
      "image/png": "[encoded data removed]",
      "text/plain": [
       "<Figure size 432x288 with 1 Axes>"
      ]
     },
     "metadata": {},
     "output_type": "display_data"
    },
    {
     "data": {
      "image/png": "[encoded data removed]",
      "text/plain": [
       "<Figure size 432x288 with 1 Axes>"
      ]
     },
     "metadata": {},
     "output_type": "display_data"
    }
   ],
   "source": [
    "plt.figure()\n",
    "sns.boxplot(df['u_in'])\n",
    "\n",
    "plt.figure()\n",
    "df['u_in'].hist(density = True, bins = 30)"
   ]
  },
  {
   "cell_type": "code",
   "execution_count": 34,
   "id": "contrary-knitting",
   "metadata": {},
   "outputs": [],
   "source": [
    "df_copy = df.copy()\n",
    "df_copy['u_in'] = df['u_in'].apply(lambda x: np.log(x + 0.000001))"
   ]
  },
  {
   "cell_type": "code",
   "execution_count": 35,
   "id": "entertaining-wholesale",
   "metadata": {},
   "outputs": [
    {
     "data": {
      "text/plain": [
       "<AxesSubplot:>"
      ]
     },
     "execution_count": 35,
     "metadata": {},
     "output_type": "execute_result"
    },
    {
     "data": {
      "image/png": "[encoded data removed]",
      "text/plain": [
       "<Figure size 432x288 with 1 Axes>"
      ]
     },
     "metadata": {},
     "output_type": "display_data"
    },
    {
     "data": {
      "image/png": "[encoded data removed]",
      "text/plain": [
       "<Figure size 432x288 with 1 Axes>"
      ]
     },
     "metadata": {},
     "output_type": "display_data"
    }
   ],
   "source": [
    "plt.figure()\n",
    "sns.boxplot(df_copy['u_in'])\n",
    "\n",
    "plt.figure()\n",
    "df_copy['u_in'].hist(density = True, bins = 30)"
   ]
  },
  {
   "cell_type": "code",
   "execution_count": 37,
   "id": "lovely-species",
   "metadata": {},
   "outputs": [],
   "source": [
    "Scaler = MinMaxScaler()\n",
    "df_copy['u_in'] = Scaler.fit_transform(df_copy[['u_in']])"
   ]
  },
  {
   "cell_type": "code",
   "execution_count": 38,
   "id": "fallen-mobility",
   "metadata": {},
   "outputs": [
    {
     "data": {
      "text/plain": [
       "<AxesSubplot:>"
      ]
     },
     "execution_count": 38,
     "metadata": {},
     "output_type": "execute_result"
    },
    {
     "data": {
      "image/png": "[encoded data removed]",
      "text/plain": [
       "<Figure size 432x288 with 1 Axes>"
      ]
     },
     "metadata": {},
     "output_type": "display_data"
    },
    {
     "data": {
      "image/png": "[encoded data removed]",
      "text/plain": [
       "<Figure size 432x288 with 1 Axes>"
      ]
     },
     "metadata": {},
     "output_type": "display_data"
    }
   ],
   "source": [
    "plt.figure()\n",
    "sns.boxplot(df_copy['u_in'])\n",
    "\n",
    "plt.figure()\n",
    "df_copy['u_in'].hist(density = True, bins = 30)"
   ]
  },
  {
   "cell_type": "markdown",
   "id": "multiple-stuff",
   "metadata": {},
   "source": [
    "### correlation plot"
   ]
  },
  {
   "cell_type": "code",
   "execution_count": 20,
   "id": "intermediate-skating",
   "metadata": {},
   "outputs": [
    {
     "data": {
      "image/png": "[encoded data removed]",
      "text/plain": [
       "<Figure size 936x1008 with 2 Axes>"
      ]
     },
     "metadata": {},
     "output_type": "display_data"
    }
   ],
   "source": [
    "fig = plt.figure(figsize=(13,14))\n",
    "sns.heatmap(df_copy2.iloc[:,1:].corr(),annot=False,fmt=\".2f\", cmap = sns.diverging_palette(240, 10, n=9))\n",
    "plt.rcParams[\"font.family\"] = \"Times New Roman\"\n",
    "plt.title('Feature Correlation Matrix', fontsize=18, color='black')\n",
    "plt.xticks()\n",
    "plt.yticks()\n",
    "plt.show()"
   ]
  },
  {
   "cell_type": "markdown",
   "id": "furnished-champion",
   "metadata": {},
   "source": [
    "> ## 3.3 Feature Generation"
   ]
  },
  {
   "cell_type": "code",
   "execution_count": null,
   "id": "conservative-symphony",
   "metadata": {},
   "outputs": [],
   "source": [
    "def add_features(df):\n",
    "    df['area'] = df['time_step'] * df['u_in']\n",
    "    df['area'] = df.groupby('breath_id')['area'].cumsum()\n",
    "    \n",
    "    df['u_in_cumsum'] = (df['u_in']).groupby(df['breath_id']).cumsum()\n",
    "    \n",
    "    df['u_in_lag1'] = df.groupby('breath_id')['u_in'].shift(1)\n",
    "    df['u_out_lag1'] = df.groupby('breath_id')['u_out'].shift(1)\n",
    "    df['u_in_lag_back1'] = df.groupby('breath_id')['u_in'].shift(-1)\n",
    "    df['u_out_lag_back1'] = df.groupby('breath_id')['u_out'].shift(-1)\n",
    "    df['u_in_lag2'] = df.groupby('breath_id')['u_in'].shift(2)\n",
    "    df['u_out_lag2'] = df.groupby('breath_id')['u_out'].shift(2)\n",
    "    df['u_in_lag_back2'] = df.groupby('breath_id')['u_in'].shift(-2)\n",
    "    #df['u_out_lag_back2'] = df.groupby('breath_id')['u_out'].shift(-2)\n",
    "    df['u_in_lag3'] = df.groupby('breath_id')['u_in'].shift(3)\n",
    "    df['u_out_lag3'] = df.groupby('breath_id')['u_out'].shift(3)\n",
    "    df['u_in_lag_back3'] = df.groupby('breath_id')['u_in'].shift(-3)\n",
    "    df['u_out_lag_back3'] = df.groupby('breath_id')['u_out'].shift(-3)\n",
    "    df['u_in_lag4'] = df.groupby('breath_id')['u_in'].shift(4)\n",
    "    #df['u_out_lag4'] = df.groupby('breath_id')['u_out'].shift(4)\n",
    "    df['u_in_lag_back4'] = df.groupby('breath_id')['u_in'].shift(-4)\n",
    "    #df['u_out_lag_back4'] = df.groupby('breath_id')['u_out'].shift(-4)\n",
    "    df = df.fillna(0)\n",
    "    \n",
    "    df['breath_id__u_in__max'] = df.groupby(['breath_id'])['u_in'].transform('max')\n",
    "    #df['breath_id__u_out__max'] = df.groupby(['breath_id'])['u_out'].transform('max')\n",
    "    df['breath_id__u_in__mean'] = df.groupby(['breath_id'])['u_in'].transform('mean')#1\n",
    "    \n",
    "    df['u_in_diff1'] = df['u_in'] - df['u_in_lag1']\n",
    "    df['u_out_diff1'] = df['u_out'] - df['u_out_lag1']\n",
    "    df['u_in_diff2'] = df['u_in'] - df['u_in_lag2']\n",
    "    df['u_out_diff2'] = df['u_out'] - df['u_out_lag2']\n",
    "    \n",
    "    df['breath_id__u_in__diffmax'] = df.groupby(['breath_id'])['u_in'].transform('max') - df['u_in']\n",
    "    df['breath_id__u_in__diffmean'] = df.groupby(['breath_id'])['u_in'].transform('mean') - df['u_in']\n",
    "    \n",
    "    df['u_in_diff3'] = df['u_in'] - df['u_in_lag3']\n",
    "    #df['u_out_diff3'] = df['u_out'] - df['u_out_lag3']\n",
    "    df['u_in_diff4'] = df['u_in'] - df['u_in_lag4']\n",
    "    #df['u_out_diff4'] = df['u_out'] - df['u_out_lag4']\n",
    "    df['cross']= df['u_in']*df['u_out']\n",
    "    df['cross2']= df['time_step']*df['u_out']\n",
    "    \n",
    "    #add in\n",
    "    #df['one'] = 1\n",
    "    #df['count'] = (df['one']).groupby(df['breath_id']).cumsum()\n",
    "    #df['u_in_cummean'] =df['u_in_cumsum'] /df['count']#2\n",
    "    df['breath_id_lag']=df['breath_id'].shift(1).fillna(0)#3\n",
    "    df['breath_id_lag2']=df['breath_id'].shift(2).fillna(0)#4\n",
    "    df['breath_id_lagsame']=np.select([df['breath_id_lag']==df['breath_id']],[1],0)\n",
    "    df['breath_id_lag2same']=np.select([df['breath_id_lag2']==df['breath_id']],[1],0)\n",
    "    #df['breath_id__u_in_lag'] = df['u_in'].shift(1).fillna(0)\n",
    "    #df['breath_id__u_in_lag'] = df['breath_id__u_in_lag'] * df['breath_id_lagsame']\n",
    "    #df['breath_id__u_in_lag2'] = df['u_in'].shift(2).fillna(0)\n",
    "    #df['breath_id__u_in_lag2'] = df['breath_id__u_in_lag2'] * df['breath_id_lag2same']\n",
    "    \n",
    "    \n",
    "    df['u_in_lagback_diff1'] = df['u_in'] - df['u_in_lag_back1']\n",
    "    #df['u_out_lagback_diff1'] = df['u_out'] - df['u_out_lag_back1']\n",
    "    df['u_in_lagback_diff2'] = df['u_in'] - df['u_in_lag_back2']\n",
    "    #df['u_out_lagback_diff2'] = df['u_out'] - df['u_out_lag_back2']\n",
    "    \n",
    "    df['ewm_u_in_mean'] = (df\\\n",
    "                           .groupby('breath_id')['u_in']\\\n",
    "                           .ewm(halflife=9)\\\n",
    "                           .mean()\\\n",
    "                           .reset_index(level=0,drop=True))\n",
    "    #df[[\"15_in_sum\",\"15_in_min\",\"15_in_max\",\"15_in_mean\"]] = (df\\\n",
    "    #                                                          .groupby('breath_id')['u_in']\\\n",
    "    #                                                          .rolling(window=15,min_periods=1)\\\n",
    "    #                                                          .agg({\"15_in_sum\":\"sum\",\n",
    "    #                                                                \"15_in_min\":\"min\",\n",
    "    #                                                                \"15_in_max\":\"max\",\n",
    "    #                                                                \"15_in_mean\":\"mean\"})\\\n",
    "    #                                                           .reset_index(level=0,drop=True))\n",
    "    #---\n",
    "    \n",
    "    df['R'] = df['R'].astype(str)\n",
    "    df['C'] = df['C'].astype(str)\n",
    "    df['R__C'] = df[\"R\"].astype(str) + '__' + df[\"C\"].astype(str)\n",
    "    df = pd.get_dummies(df)\n",
    "    #df.drop(['one','count'],axis=1)\n",
    "    return df"
   ]
  },
  {
   "cell_type": "code",
   "execution_count": 71,
   "id": "sitting-merchant",
   "metadata": {},
   "outputs": [
    {
     "ename": "KeyboardInterrupt",
     "evalue": "",
     "output_type": "error",
     "traceback": [
      "\u001b[1;31m---------------------------------------------------------------------------\u001b[0m",
      "\u001b[1;31mKeyboardInterrupt\u001b[0m                         Traceback (most recent call last)",
      "\u001b[1;32m<ipython-input-71-e950fb56471c>\u001b[0m in \u001b[0;36m<module>\u001b[1;34m\u001b[0m\n\u001b[1;32m----> 1\u001b[1;33m \u001b[0mdf_copy\u001b[0m\u001b[1;33m.\u001b[0m\u001b[0mto_csv\u001b[0m\u001b[1;33m(\u001b[0m\u001b[1;34m'train_std.csv'\u001b[0m\u001b[1;33m,\u001b[0m \u001b[0mindex\u001b[0m \u001b[1;33m=\u001b[0m \u001b[1;32mFalse\u001b[0m\u001b[1;33m)\u001b[0m\u001b[1;33m\u001b[0m\u001b[1;33m\u001b[0m\u001b[0m\n\u001b[0m",
      "\u001b[1;32m~\\anaconda3\\lib\\site-packages\\pandas\\core\\generic.py\u001b[0m in \u001b[0;36mto_csv\u001b[1;34m(self, path_or_buf, sep, na_rep, float_format, columns, header, index, index_label, mode, encoding, compression, quoting, quotechar, line_terminator, chunksize, date_format, doublequote, escapechar, decimal, errors, storage_options)\u001b[0m\n\u001b[0;32m   3384\u001b[0m         )\n\u001b[0;32m   3385\u001b[0m \u001b[1;33m\u001b[0m\u001b[0m\n\u001b[1;32m-> 3386\u001b[1;33m         return DataFrameRenderer(formatter).to_csv(\n\u001b[0m\u001b[0;32m   3387\u001b[0m             \u001b[0mpath_or_buf\u001b[0m\u001b[1;33m,\u001b[0m\u001b[1;33m\u001b[0m\u001b[1;33m\u001b[0m\u001b[0m\n\u001b[0;32m   3388\u001b[0m             \u001b[0mline_terminator\u001b[0m\u001b[1;33m=\u001b[0m\u001b[0mline_terminator\u001b[0m\u001b[1;33m,\u001b[0m\u001b[1;33m\u001b[0m\u001b[1;33m\u001b[0m\u001b[0m\n",
      "\u001b[1;32m~\\anaconda3\\lib\\site-packages\\pandas\\io\\formats\\format.py\u001b[0m in \u001b[0;36mto_csv\u001b[1;34m(self, path_or_buf, encoding, sep, columns, index_label, mode, compression, quoting, quotechar, line_terminator, chunksize, date_format, doublequote, escapechar, errors, storage_options)\u001b[0m\n\u001b[0;32m   1081\u001b[0m             \u001b[0mformatter\u001b[0m\u001b[1;33m=\u001b[0m\u001b[0mself\u001b[0m\u001b[1;33m.\u001b[0m\u001b[0mfmt\u001b[0m\u001b[1;33m,\u001b[0m\u001b[1;33m\u001b[0m\u001b[1;33m\u001b[0m\u001b[0m\n\u001b[0;32m   1082\u001b[0m         )\n\u001b[1;32m-> 1083\u001b[1;33m         \u001b[0mcsv_formatter\u001b[0m\u001b[1;33m.\u001b[0m\u001b[0msave\u001b[0m\u001b[1;33m(\u001b[0m\u001b[1;33m)\u001b[0m\u001b[1;33m\u001b[0m\u001b[1;33m\u001b[0m\u001b[0m\n\u001b[0m\u001b[0;32m   1084\u001b[0m \u001b[1;33m\u001b[0m\u001b[0m\n\u001b[0;32m   1085\u001b[0m         \u001b[1;32mif\u001b[0m \u001b[0mcreated_buffer\u001b[0m\u001b[1;33m:\u001b[0m\u001b[1;33m\u001b[0m\u001b[1;33m\u001b[0m\u001b[0m\n",
      "\u001b[1;32m~\\anaconda3\\lib\\site-packages\\pandas\\io\\formats\\csvs.py\u001b[0m in \u001b[0;36msave\u001b[1;34m(self)\u001b[0m\n\u001b[0;32m    246\u001b[0m             )\n\u001b[0;32m    247\u001b[0m \u001b[1;33m\u001b[0m\u001b[0m\n\u001b[1;32m--> 248\u001b[1;33m             \u001b[0mself\u001b[0m\u001b[1;33m.\u001b[0m\u001b[0m_save\u001b[0m\u001b[1;33m(\u001b[0m\u001b[1;33m)\u001b[0m\u001b[1;33m\u001b[0m\u001b[1;33m\u001b[0m\u001b[0m\n\u001b[0m\u001b[0;32m    249\u001b[0m \u001b[1;33m\u001b[0m\u001b[0m\n\u001b[0;32m    250\u001b[0m     \u001b[1;32mdef\u001b[0m \u001b[0m_save\u001b[0m\u001b[1;33m(\u001b[0m\u001b[0mself\u001b[0m\u001b[1;33m)\u001b[0m \u001b[1;33m->\u001b[0m \u001b[1;32mNone\u001b[0m\u001b[1;33m:\u001b[0m\u001b[1;33m\u001b[0m\u001b[1;33m\u001b[0m\u001b[0m\n",
      "\u001b[1;32m~\\anaconda3\\lib\\site-packages\\pandas\\io\\formats\\csvs.py\u001b[0m in \u001b[0;36m_save\u001b[1;34m(self)\u001b[0m\n\u001b[0;32m    251\u001b[0m         \u001b[1;32mif\u001b[0m \u001b[0mself\u001b[0m\u001b[1;33m.\u001b[0m\u001b[0m_need_to_save_header\u001b[0m\u001b[1;33m:\u001b[0m\u001b[1;33m\u001b[0m\u001b[1;33m\u001b[0m\u001b[0m\n\u001b[0;32m    252\u001b[0m             \u001b[0mself\u001b[0m\u001b[1;33m.\u001b[0m\u001b[0m_save_header\u001b[0m\u001b[1;33m(\u001b[0m\u001b[1;33m)\u001b[0m\u001b[1;33m\u001b[0m\u001b[1;33m\u001b[0m\u001b[0m\n\u001b[1;32m--> 253\u001b[1;33m         \u001b[0mself\u001b[0m\u001b[1;33m.\u001b[0m\u001b[0m_save_body\u001b[0m\u001b[1;33m(\u001b[0m\u001b[1;33m)\u001b[0m\u001b[1;33m\u001b[0m\u001b[1;33m\u001b[0m\u001b[0m\n\u001b[0m\u001b[0;32m    254\u001b[0m \u001b[1;33m\u001b[0m\u001b[0m\n\u001b[0;32m    255\u001b[0m     \u001b[1;32mdef\u001b[0m \u001b[0m_save_header\u001b[0m\u001b[1;33m(\u001b[0m\u001b[0mself\u001b[0m\u001b[1;33m)\u001b[0m \u001b[1;33m->\u001b[0m \u001b[1;32mNone\u001b[0m\u001b[1;33m:\u001b[0m\u001b[1;33m\u001b[0m\u001b[1;33m\u001b[0m\u001b[0m\n",
      "\u001b[1;32m~\\anaconda3\\lib\\site-packages\\pandas\\io\\formats\\csvs.py\u001b[0m in \u001b[0;36m_save_body\u001b[1;34m(self)\u001b[0m\n\u001b[0;32m    289\u001b[0m             \u001b[1;32mif\u001b[0m \u001b[0mstart_i\u001b[0m \u001b[1;33m>=\u001b[0m \u001b[0mend_i\u001b[0m\u001b[1;33m:\u001b[0m\u001b[1;33m\u001b[0m\u001b[1;33m\u001b[0m\u001b[0m\n\u001b[0;32m    290\u001b[0m                 \u001b[1;32mbreak\u001b[0m\u001b[1;33m\u001b[0m\u001b[1;33m\u001b[0m\u001b[0m\n\u001b[1;32m--> 291\u001b[1;33m             \u001b[0mself\u001b[0m\u001b[1;33m.\u001b[0m\u001b[0m_save_chunk\u001b[0m\u001b[1;33m(\u001b[0m\u001b[0mstart_i\u001b[0m\u001b[1;33m,\u001b[0m \u001b[0mend_i\u001b[0m\u001b[1;33m)\u001b[0m\u001b[1;33m\u001b[0m\u001b[1;33m\u001b[0m\u001b[0m\n\u001b[0m\u001b[0;32m    292\u001b[0m \u001b[1;33m\u001b[0m\u001b[0m\n\u001b[0;32m    293\u001b[0m     \u001b[1;32mdef\u001b[0m \u001b[0m_save_chunk\u001b[0m\u001b[1;33m(\u001b[0m\u001b[0mself\u001b[0m\u001b[1;33m,\u001b[0m \u001b[0mstart_i\u001b[0m\u001b[1;33m:\u001b[0m \u001b[0mint\u001b[0m\u001b[1;33m,\u001b[0m \u001b[0mend_i\u001b[0m\u001b[1;33m:\u001b[0m \u001b[0mint\u001b[0m\u001b[1;33m)\u001b[0m \u001b[1;33m->\u001b[0m \u001b[1;32mNone\u001b[0m\u001b[1;33m:\u001b[0m\u001b[1;33m\u001b[0m\u001b[1;33m\u001b[0m\u001b[0m\n",
      "\u001b[1;32m~\\anaconda3\\lib\\site-packages\\pandas\\io\\formats\\csvs.py\u001b[0m in \u001b[0;36m_save_chunk\u001b[1;34m(self, start_i, end_i)\u001b[0m\n\u001b[0;32m    296\u001b[0m         \u001b[0mdf\u001b[0m \u001b[1;33m=\u001b[0m \u001b[0mself\u001b[0m\u001b[1;33m.\u001b[0m\u001b[0mobj\u001b[0m\u001b[1;33m.\u001b[0m\u001b[0miloc\u001b[0m\u001b[1;33m[\u001b[0m\u001b[0mslicer\u001b[0m\u001b[1;33m]\u001b[0m\u001b[1;33m\u001b[0m\u001b[1;33m\u001b[0m\u001b[0m\n\u001b[0;32m    297\u001b[0m \u001b[1;33m\u001b[0m\u001b[0m\n\u001b[1;32m--> 298\u001b[1;33m         \u001b[0mres\u001b[0m \u001b[1;33m=\u001b[0m \u001b[0mdf\u001b[0m\u001b[1;33m.\u001b[0m\u001b[0m_mgr\u001b[0m\u001b[1;33m.\u001b[0m\u001b[0mto_native_types\u001b[0m\u001b[1;33m(\u001b[0m\u001b[1;33m**\u001b[0m\u001b[0mself\u001b[0m\u001b[1;33m.\u001b[0m\u001b[0m_number_format\u001b[0m\u001b[1;33m)\u001b[0m\u001b[1;33m\u001b[0m\u001b[1;33m\u001b[0m\u001b[0m\n\u001b[0m\u001b[0;32m    299\u001b[0m         \u001b[0mdata\u001b[0m \u001b[1;33m=\u001b[0m \u001b[1;33m[\u001b[0m\u001b[0mres\u001b[0m\u001b[1;33m.\u001b[0m\u001b[0miget_values\u001b[0m\u001b[1;33m(\u001b[0m\u001b[0mi\u001b[0m\u001b[1;33m)\u001b[0m \u001b[1;32mfor\u001b[0m \u001b[0mi\u001b[0m \u001b[1;32min\u001b[0m \u001b[0mrange\u001b[0m\u001b[1;33m(\u001b[0m\u001b[0mlen\u001b[0m\u001b[1;33m(\u001b[0m\u001b[0mres\u001b[0m\u001b[1;33m.\u001b[0m\u001b[0mitems\u001b[0m\u001b[1;33m)\u001b[0m\u001b[1;33m)\u001b[0m\u001b[1;33m]\u001b[0m\u001b[1;33m\u001b[0m\u001b[1;33m\u001b[0m\u001b[0m\n\u001b[0;32m    300\u001b[0m \u001b[1;33m\u001b[0m\u001b[0m\n",
      "\u001b[1;32m~\\anaconda3\\lib\\site-packages\\pandas\\core\\internals\\managers.py\u001b[0m in \u001b[0;36mto_native_types\u001b[1;34m(self, **kwargs)\u001b[0m\n\u001b[0;32m    677\u001b[0m         \u001b[1;32min\u001b[0m \u001b[0mformatting\u001b[0m \u001b[1;33m(\u001b[0m\u001b[0mrepr\u001b[0m \u001b[1;33m/\u001b[0m \u001b[0mcsv\u001b[0m\u001b[1;33m)\u001b[0m\u001b[1;33m.\u001b[0m\u001b[1;33m\u001b[0m\u001b[1;33m\u001b[0m\u001b[0m\n\u001b[0;32m    678\u001b[0m         \"\"\"\n\u001b[1;32m--> 679\u001b[1;33m         \u001b[1;32mreturn\u001b[0m \u001b[0mself\u001b[0m\u001b[1;33m.\u001b[0m\u001b[0mapply\u001b[0m\u001b[1;33m(\u001b[0m\u001b[1;34m\"to_native_types\"\u001b[0m\u001b[1;33m,\u001b[0m \u001b[1;33m**\u001b[0m\u001b[0mkwargs\u001b[0m\u001b[1;33m)\u001b[0m\u001b[1;33m\u001b[0m\u001b[1;33m\u001b[0m\u001b[0m\n\u001b[0m\u001b[0;32m    680\u001b[0m \u001b[1;33m\u001b[0m\u001b[0m\n\u001b[0;32m    681\u001b[0m     \u001b[1;32mdef\u001b[0m \u001b[0mis_consolidated\u001b[0m\u001b[1;33m(\u001b[0m\u001b[0mself\u001b[0m\u001b[1;33m)\u001b[0m \u001b[1;33m->\u001b[0m \u001b[0mbool\u001b[0m\u001b[1;33m:\u001b[0m\u001b[1;33m\u001b[0m\u001b[1;33m\u001b[0m\u001b[0m\n",
      "\u001b[1;32m~\\anaconda3\\lib\\site-packages\\pandas\\core\\internals\\managers.py\u001b[0m in \u001b[0;36mapply\u001b[1;34m(self, f, align_keys, ignore_failures, **kwargs)\u001b[0m\n\u001b[0;32m    425\u001b[0m                     \u001b[0mapplied\u001b[0m \u001b[1;33m=\u001b[0m \u001b[0mb\u001b[0m\u001b[1;33m.\u001b[0m\u001b[0mapply\u001b[0m\u001b[1;33m(\u001b[0m\u001b[0mf\u001b[0m\u001b[1;33m,\u001b[0m \u001b[1;33m**\u001b[0m\u001b[0mkwargs\u001b[0m\u001b[1;33m)\u001b[0m\u001b[1;33m\u001b[0m\u001b[1;33m\u001b[0m\u001b[0m\n\u001b[0;32m    426\u001b[0m                 \u001b[1;32melse\u001b[0m\u001b[1;33m:\u001b[0m\u001b[1;33m\u001b[0m\u001b[1;33m\u001b[0m\u001b[0m\n\u001b[1;32m--> 427\u001b[1;33m                     \u001b[0mapplied\u001b[0m \u001b[1;33m=\u001b[0m \u001b[0mgetattr\u001b[0m\u001b[1;33m(\u001b[0m\u001b[0mb\u001b[0m\u001b[1;33m,\u001b[0m \u001b[0mf\u001b[0m\u001b[1;33m)\u001b[0m\u001b[1;33m(\u001b[0m\u001b[1;33m**\u001b[0m\u001b[0mkwargs\u001b[0m\u001b[1;33m)\u001b[0m\u001b[1;33m\u001b[0m\u001b[1;33m\u001b[0m\u001b[0m\n\u001b[0m\u001b[0;32m    428\u001b[0m             \u001b[1;32mexcept\u001b[0m \u001b[1;33m(\u001b[0m\u001b[0mTypeError\u001b[0m\u001b[1;33m,\u001b[0m \u001b[0mNotImplementedError\u001b[0m\u001b[1;33m)\u001b[0m\u001b[1;33m:\u001b[0m\u001b[1;33m\u001b[0m\u001b[1;33m\u001b[0m\u001b[0m\n\u001b[0;32m    429\u001b[0m                 \u001b[1;32mif\u001b[0m \u001b[1;32mnot\u001b[0m \u001b[0mignore_failures\u001b[0m\u001b[1;33m:\u001b[0m\u001b[1;33m\u001b[0m\u001b[1;33m\u001b[0m\u001b[0m\n",
      "\u001b[1;32m~\\anaconda3\\lib\\site-packages\\pandas\\core\\internals\\blocks.py\u001b[0m in \u001b[0;36mto_native_types\u001b[1;34m(self, na_rep, float_format, decimal, quoting, **kwargs)\u001b[0m\n\u001b[0;32m   2098\u001b[0m                 \u001b[0mvalues\u001b[0m \u001b[1;33m=\u001b[0m \u001b[0mnp\u001b[0m\u001b[1;33m.\u001b[0m\u001b[0marray\u001b[0m\u001b[1;33m(\u001b[0m\u001b[0mvalues\u001b[0m\u001b[1;33m,\u001b[0m \u001b[0mdtype\u001b[0m\u001b[1;33m=\u001b[0m\u001b[1;34m\"object\"\u001b[0m\u001b[1;33m)\u001b[0m\u001b[1;33m\u001b[0m\u001b[1;33m\u001b[0m\u001b[0m\n\u001b[0;32m   2099\u001b[0m \u001b[1;33m\u001b[0m\u001b[0m\n\u001b[1;32m-> 2100\u001b[1;33m             \u001b[0mvalues\u001b[0m\u001b[1;33m[\u001b[0m\u001b[0mmask\u001b[0m\u001b[1;33m]\u001b[0m \u001b[1;33m=\u001b[0m \u001b[0mna_rep\u001b[0m\u001b[1;33m\u001b[0m\u001b[1;33m\u001b[0m\u001b[0m\n\u001b[0m\u001b[0;32m   2101\u001b[0m             \u001b[1;32mreturn\u001b[0m \u001b[0mself\u001b[0m\u001b[1;33m.\u001b[0m\u001b[0mmake_block\u001b[0m\u001b[1;33m(\u001b[0m\u001b[0mvalues\u001b[0m\u001b[1;33m)\u001b[0m\u001b[1;33m\u001b[0m\u001b[1;33m\u001b[0m\u001b[0m\n\u001b[0;32m   2102\u001b[0m \u001b[1;33m\u001b[0m\u001b[0m\n",
      "\u001b[1;31mKeyboardInterrupt\u001b[0m: "
     ]
    }
   ],
   "source": [
    "df_copy.to_csv('train_std.csv', index = False)"
   ]
  }
 ],
 "metadata": {
  "kernelspec": {
   "display_name": "Python 3",
   "language": "python",
   "name": "python3"
  },
  "language_info": {
   "codemirror_mode": {
    "name": "ipython",
    "version": 3
   },
   "file_extension": ".py",
   "mimetype": "text/x-python",
   "name": "python",
   "nbconvert_exporter": "python",
   "pygments_lexer": "ipython3",
   "version": "3.8.3"
  },
  "papermill": {
   "default_parameters": {},
   "duration": 58.786749,
   "end_time": "2022-01-04T05:59:07.540755",
   "environment_variables": {},
   "exception": null,
   "input_path": "__notebook__.ipynb",
   "output_path": "__notebook__.ipynb",
   "parameters": {},
   "start_time": "2022-01-04T05:58:08.754006",
   "version": "2.3.3"
  }
 },
 "nbformat": 4,
 "nbformat_minor": 5
}
